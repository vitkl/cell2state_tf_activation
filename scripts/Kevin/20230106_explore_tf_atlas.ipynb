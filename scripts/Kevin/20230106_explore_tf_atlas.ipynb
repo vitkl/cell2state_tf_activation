{
 "cells": [
  {
   "cell_type": "code",
   "execution_count": 8,
   "metadata": {},
   "outputs": [],
   "source": [
    "import scanpy as sc \n",
    "import numpy as np\n",
    "import pandas as pd\n",
    "import matplotlib.pyplot as plt"
   ]
  },
  {
   "cell_type": "code",
   "execution_count": 38,
   "metadata": {},
   "outputs": [],
   "source": [
    "#read transcription factor atlas data from https://www.ncbi.nlm.nih.gov/geo/query/acc.cgi?acc=GSE216481 \n",
    "p_tf_atlas = '/lustre/scratch123/hgi/teams/parts/kl11/cell2state_tf_activation/data/transcription_factor_atlas/'\n"
   ]
  },
  {
   "cell_type": "code",
   "execution_count": null,
   "metadata": {},
   "outputs": [],
   "source": [
    "#Load joint ATAC-seq and RNA-seq data from TF atlas data\n",
    "adata_rna_atac = sc.read_h5ad(f'{p_tf_atlas}GSE217215_201218_ATAC.h5ad')"
   ]
  },
  {
   "cell_type": "code",
   "execution_count": 56,
   "metadata": {},
   "outputs": [],
   "source": [
    "#Load scRNA-seq data from TF atlas data with 3550 TFs ORFs\n",
    "adata_all_tfs = sc.read_h5ad(f'{p_tf_atlas}GSE217460_210322_TFAtlas.h5ad')"
   ]
  },
  {
   "cell_type": "code",
   "execution_count": 43,
   "metadata": {},
   "outputs": [],
   "source": [
    "#from adata.obs only select TF name without ORF by splitting on hyphen and selecting the second element and make all uppercases\n",
    "adata_rna_atac.obs['TF_name'] = adata_rna_atac.obs['TF'].str.split('-').str[1]\n",
    "adata_rna_atac.obs['TF_name'] = adata_rna_atac.obs['TF_name'].str.upper()\n"
   ]
  },
  {
   "cell_type": "code",
   "execution_count": 57,
   "metadata": {},
   "outputs": [],
   "source": [
    "#from adata.obs only select TF name without ORF by splitting on hyphen and selecting the second element and make all uppercases\n",
    "adata_all_tfs.obs['TF_name'] = adata_all_tfs.obs['TF'].str.split('-').str[1]\n",
    "adata_all_tfs.obs['TF_name'] = adata_all_tfs.obs['TF_name'].str.upper()\n"
   ]
  },
  {
   "cell_type": "code",
   "execution_count": 20,
   "metadata": {},
   "outputs": [],
   "source": [
    "sc_data_folder = '/nfs/team205/vk7/sanger_projects/cell2state_tf_activation/data/pilot_5_prime_dec_2022/'\n",
    "#Read in sgRNA sequences to count reads per guide\n",
    "sgrna_df=pd.read_csv(f'{sc_data_folder}cellranger710_count_05e682d5679826b9b76d6bec731bbe61/feature_reference.csv')\n",
    "#Append additional sgRNA sequences that were not included in the data by appending rows to the dataframe\n",
    "sgrna_rest_df = pd.DataFrame(\n",
    "    [[\n",
    "        \"sgRNA1_SCP_CGAGTGTTCGATCGCGACTG_sgRNA1_SCP_CGAGTGTTCGATCGCGACTG_2\",\n",
    "        \"sgRNA1_SCP_CGAGTGTTCGATCGCGACTG_sgRNA1_SCP_CGAGTGTTCGATCGCGACTG_2\",\n",
    "        \"R2\",\n",
    "        \"TGCTGTTTCCAGCATAGCTCTTAAAC(BC)\",\n",
    "        \"AGTCGCGATCGAACACTCGC\",\n",
    "        \"CRISPR Guide Capture\"\n",
    "        ],\n",
    "    [\n",
    "        \"sgRNA6_SCP_GCAGACGTGCCTACGGACCG_sgRNA6_SCP_GCAGACGTGCCTACGGACCG_2\",\n",
    "        \"sgRNA6_SCP_GCAGACGTGCCTACGGACCG_sgRNA6_SCP_GCAGACGTGCCTACGGACCG_2\",\n",
    "        \"R2\",\n",
    "        \"TGCTGTTTCCAGCATAGCTCTTAAAC(BC)\",\n",
    "        \"CGGTCCGTAGGCACGTCTGC\",\n",
    "        \"CRISPR Guide Capture\"]],\n",
    "    columns= sgrna_df.columns\n",
    ")\n",
    "#rowwise concatenation of the two dataframes\n",
    "sgrna_df = pd.concat([sgrna_df, sgrna_rest_df], axis=0,ignore_index=True)"
   ]
  },
  {
   "cell_type": "code",
   "execution_count": 49,
   "metadata": {},
   "outputs": [],
   "source": [
    "#from id only select gene sequence by splitting on underscore and selecting the first element and make all uppercases\n",
    "sgrna_df['TF_name'] = sgrna_df['id'].str.split('_').str[0]\n",
    "sgrna_df['TF_name'] = sgrna_df['TF_name'].str.upper()"
   ]
  },
  {
   "cell_type": "code",
   "execution_count": 31,
   "metadata": {},
   "outputs": [],
   "source": [
    "#search for the unique intersection of TF names in the two dataframes\n",
    "tf_names_overlap_rna_atac = np.intersect1d(adata_rna_atac.obs['TF_name'].unique(), sgrna_df['TF_name'].unique())"
   ]
  },
  {
   "cell_type": "code",
   "execution_count": 59,
   "metadata": {},
   "outputs": [],
   "source": [
    "#search for the unique intersection of TF names in the two dataframes\n",
    "tf_names_overlap_all_tfs = np.intersect1d(adata_all_tfs.obs['TF_name'].unique(), sgrna_df['TF_name'].unique())"
   ]
  },
  {
   "cell_type": "code",
   "execution_count": 60,
   "metadata": {},
   "outputs": [
    {
     "data": {
      "text/plain": [
       "array(['AIRE', 'ASCL1', 'DBX2', 'DLX1', 'DLX5', 'FOXN1', 'GATA2', 'IRF3',\n",
       "       'LHX6', 'MAFB', 'MYOD1', 'NEUROD2', 'NEUROG2', 'OLIG1', 'OLIG2',\n",
       "       'PROX1', 'RORA', 'RORB', 'SATB2', 'TSHZ3'], dtype=object)"
      ]
     },
     "execution_count": 60,
     "metadata": {},
     "output_type": "execute_result"
    }
   ],
   "source": [
    "tf_names_overlap_all_tfs"
   ]
  }
 ],
 "metadata": {
  "kernelspec": {
   "display_name": "cell2state",
   "language": "python",
   "name": "cell2state_tf_activation"
  },
  "vscode": {
   "interpreter": {
    "hash": "31f2aee4e71d21fbe5cf8b01ff0e069b9275f58929596ceb00d14d90e3e16cd6"
   }
  }
 },
 "nbformat": 4,
 "nbformat_minor": 4
}
