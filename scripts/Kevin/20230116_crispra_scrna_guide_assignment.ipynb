{
 "cells": [
  {
   "cell_type": "code",
   "execution_count": null,
   "metadata": {},
   "outputs": [],
   "source": [
    "import scanpy as sc \n",
    "import pandas as pd\n",
    "import matplotlib.pyplot as plt\n",
    "from matplotlib import colors, cm\n",
    "import numpy as np\n",
    "import scipy\n",
    "import os\n",
    "\n",
    "from utils import plot_histogram\n",
    "from var import *"
   ]
  },
  {
   "cell_type": "code",
   "execution_count": null,
   "metadata": {},
   "outputs": [],
   "source": [
    "#set seed to 0 for reproducibility of results\n",
    "np.random.seed(0)"
   ]
  },
  {
   "cell_type": "code",
   "execution_count": null,
   "metadata": {},
   "outputs": [],
   "source": [
    "#Create figures folder\n",
    "figures_folder = os.path.join(results_folder, 'figures/guide_assignment/')\n",
    "if not os.path.exists(figures_folder):\n",
    "    os.makedirs(figures_folder)"
   ]
  },
  {
   "attachments": {},
   "cell_type": "markdown",
   "metadata": {},
   "source": [
    "<h3> 1. Assessing extent of guide overassignment issue </h3>"
   ]
  },
  {
   "cell_type": "code",
   "execution_count": null,
   "metadata": {},
   "outputs": [],
   "source": [
    "#load raw anndata object\n",
    "adata = sc.read_h5ad('/lustre/scratch123/hgi/teams/parts/kl11/cell2state_tf_activation/results/20230113_all_cells.h5ad')"
   ]
  },
  {
   "cell_type": "code",
   "execution_count": null,
   "metadata": {},
   "outputs": [],
   "source": [
    "#select all guides by selecting the names which do not start with ENSG in var_names\n",
    "targeted_tf_guides = list(adata.var_names[~adata.var_names.str.startswith('ENSG')])\n",
    "#use list comprehension to split targeted_tf_guides by '_' and select the first element of the list\n",
    "targeted_tf = [x.split('_')[0] for x in targeted_tf_guides]"
   ]
  },
  {
   "cell_type": "code",
   "execution_count": null,
   "metadata": {},
   "outputs": [],
   "source": [
    "# Create a list of expected guides including the control guides \n",
    "expected_guides = [\n",
    "    'AIRE',\n",
    "    'ASCL1',\n",
    "    'DLX1',\n",
    "    'IRF3',\n",
    "    'LHX6',\n",
    "    'MAFB',\n",
    "    'MYOD1',\n",
    "    'NEUROG2',\n",
    "    'OLIG2',\n",
    "    'PROX1',\n",
    "    'RORA',\n",
    "    'RORB',\n",
    "    'SATB2',\n",
    "    'sgRNA1_SCP',\n",
    "    'sgRNA6_SCP',\n",
    "    'ONE_INTERGENIC_SITE_1194'\n",
    "]\n",
    "\n",
    "[i for i in expected_guides if i not in targeted_tf]"
   ]
  },
  {
   "cell_type": "code",
   "execution_count": null,
   "metadata": {},
   "outputs": [],
   "source": [
    "#save counts in adata counts layer\n",
    "adata.layers['counts'] = adata.X.copy()\n",
    "#filter adata for cells with total_counts > 5000\n",
    "adata_filtered = adata[adata.obs['total_counts'] > 5000].copy()"
   ]
  },
  {
   "cell_type": "code",
   "execution_count": null,
   "metadata": {},
   "outputs": [],
   "source": [
    "#filter adata_filtered for expected tf with regex\n",
    "adata_filtered = adata_filtered[:, adata_filtered.var_names.str.contains('|'.join(expected_guides))].copy()"
   ]
  },
  {
   "cell_type": "code",
   "execution_count": null,
   "metadata": {},
   "outputs": [],
   "source": [
    "#normalize adata_filtered with scanpy\n",
    "sc.pp.normalize_total(adata_filtered, target_sum=1e4)\n",
    "#create log transformed layer\n",
    "adata_filtered.layers[\"log_transformed\"] = np.log1p(adata_filtered.X)\n",
    "\n"
   ]
  },
  {
   "cell_type": "code",
   "execution_count": null,
   "metadata": {},
   "outputs": [],
   "source": [
    "#create function to convert adata X (sparse marix) to convert to 2d array\n",
    "def sparse_to_2d_arr(adata):\n",
    "\n",
    "    #convert sparse matrix to dense matrix\n",
    "    dense_count_mtx=adata.X.todense()\n",
    "    print(dense_count_mtx)\n",
    "    #convert matrix into 2d array\n",
    "    dense_count_2d_arr=np.array(dense_count_mtx)\n",
    "    #convert 2d array to dtype int\n",
    "    dense_count_2d_arr=dense_count_2d_arr.astype(int)\n",
    "\n",
    "    return dense_count_2d_arr"
   ]
  },
  {
   "cell_type": "code",
   "execution_count": null,
   "metadata": {},
   "outputs": [],
   "source": [
    "#Create a function to count the number of times each value occurs in each row\n",
    "def count_guide_frequency(dense_count_2d_arr):\n",
    "\n",
    "        \n",
    "    m = dense_count_2d_arr.shape[0]    \n",
    "    n = dense_count_2d_arr.max()+1\n",
    "    count_frequncy_arr = np.zeros((dense_count_2d_arr.max()+1,dense_count_2d_arr.shape[1]))\n",
    "\n",
    "    for x in range(dense_count_2d_arr.shape[1]):\n",
    "        bin_count_arr = np.bincount(dense_count_2d_arr[:,x])\n",
    "        \n",
    "\n",
    "        #create zero array to add to bin_count_arr to make the length of the array equal to the max value in dense_count_2d_arr\n",
    "        n_filler = n-len(bin_count_arr)\n",
    "        zero_filler = np.zeros(n_filler)\n",
    "        full_bin_count_arr = np.concatenate((bin_count_arr,zero_filler))\n",
    "        count_frequncy_arr[:,x] = full_bin_count_arr \n",
    "        \n",
    "\n",
    "    return count_frequncy_arr #exclude first column as it only consists of zeros"
   ]
  },
  {
   "cell_type": "code",
   "execution_count": null,
   "metadata": {},
   "outputs": [],
   "source": [
    "dense_count_2d_arr = sparse_to_2d_arr(adata_filtered)\n",
    "guide_frequency = count_guide_frequency(dense_count_2d_arr)"
   ]
  },
  {
   "attachments": {},
   "cell_type": "markdown",
   "metadata": {},
   "source": [
    "<h3> 1.1. guide UMI count distribution </h3>"
   ]
  },
  {
   "cell_type": "code",
   "execution_count": null,
   "metadata": {},
   "outputs": [],
   "source": [
    "#plot barplot from pandas Series\n",
    "tf_guides_series = pd.Series(\n",
    "    np.array(adata_filtered.layers['counts'].mean(0)).flatten(),\n",
    "    index=adata_filtered.var_names\n",
    ")\n",
    "fig, ax = plt.subplots()\n",
    "tf_guides_series.plot.barh(\n",
    "    figsize=(20,10)\n",
    "    )\n",
    "fig.subplots_adjust(left=0.5)\n",
    "#adjust y axis to avoid overlap of text\n",
    "ax.set_yticks(np.arange(len(tf_guides_series)))\n",
    "fig.tight_layout()\n",
    "#label x and y axis\n",
    "plt.xlabel('average UMI count/cell')\n",
    "plt.ylabel('sgRNA')\n",
    "\n",
    "\n",
    "plt.savefig(f'{figures_folder}{today}_tf_guides_barplot.pdf',bbox_inches='tight')"
   ]
  },
  {
   "cell_type": "code",
   "execution_count": null,
   "metadata": {},
   "outputs": [],
   "source": [
    "#plot lineplot for each row in count_frequncy_arr\n",
    "for x in range(0,guide_frequency.shape[1]):\n",
    "    # plt.plot(np.arange(1,guide_frequency.shape[0]),guide_frequency[1:,x])\n",
    "    plt.hist(guide_frequency[1:,x], bins=100)\n",
    "    plt.xlabel('normalised UMI count')\n",
    "    \n",
    "    plt.ylabel('log(# of cells)')\n",
    "    \n",
    "    #plot adata.var_names for each gene as legend\n",
    "\n",
    "    plt.legend(adata_filtered.var_names,bbox_to_anchor=(1.05, 1), loc='upper left', borderaxespad=0.)\n",
    "    \n",
    "    #set lower xlim to 1, to exclude zero values\n",
    "    plt.gca().set_xlim(left=1)\n",
    "\n",
    "    #log scale y axis\n",
    "    plt.gca().set_yscale('log')\n",
    "#save figure\n",
    "plt.savefig(f'{figures_folder}{today}_tf_guides_frequency.pdf',bbox_inches='tight')\n",
    "# plt.close()"
   ]
  },
  {
   "cell_type": "code",
   "execution_count": null,
   "metadata": {},
   "outputs": [],
   "source": [
    "#plot lineplot for each row in count_frequncy_arr\n",
    "for x in range(0,guide_frequency.shape[1]):\n",
    "    # plt.plot(np.arange(1,guide_frequency.shape[0]),guide_frequency[1:,x])\n",
    "    plt.hist(guide_frequency[1:,x], bins=200)\n",
    "    plt.xlabel('Normalised UMI count')\n",
    "    \n",
    "    plt.ylabel('log(# of cells)')\n",
    "    #limit x axis to interval 1 and 100\n",
    "    plt.xlim([1,50])\n",
    "\n",
    "    #log scale y axis\n",
    "    plt.gca().set_yscale('log')\n",
    "    \n",
    "    #set lower xlim to 1, to exclude zero values\n",
    "    #plt.gca().set_xlim(left=1)\n",
    "plt.savefig(f'{figures_folder}{today}_tf_guides_gene_frequency_interval_1_50.pdf',bbox_inches='tight')"
   ]
  },
  {
   "cell_type": "code",
   "execution_count": null,
   "metadata": {},
   "outputs": [],
   "source": [
    "#plot lineplot for each row in count_frequncy_arr\n",
    "for x in range(0,guide_frequency.shape[1]):\n",
    "    # plt.plot(np.arange(1,guide_frequency.shape[0]),guide_frequency[1:,x])\n",
    "    plt.hist(guide_frequency[1:,x], bins=200)\n",
    "    plt.xlabel('Normalised UMI count')\n",
    "    \n",
    "    plt.ylabel('log(# of cells)')\n",
    "    #limit x axis to interval 1 and 100\n",
    "    plt.xlim([1,100])\n",
    "\n",
    "    #log scale y axis\n",
    "    plt.gca().set_yscale('log')\n",
    "    \n",
    "    #set lower xlim to 1, to exclude zero values\n",
    "    # plt.gca().set_xlim(left=1)\n",
    "    # plt.savefig(f'{figures_folder}{today}_tf_guides_gene_frequency_interval_10_100.pdf',bbox_inches='tight')"
   ]
  },
  {
   "attachments": {},
   "cell_type": "markdown",
   "metadata": {},
   "source": [
    "<h3> 1.2.1 Guide fraction for individual guides</h3>"
   ]
  },
  {
   "cell_type": "code",
   "execution_count": null,
   "metadata": {},
   "outputs": [],
   "source": [
    "#compute fraction per column to determine guide fraction of each cell \n",
    "guide_frac_per_cell=dense_count_2d_arr.T/dense_count_2d_arr.sum(axis=1)\n",
    "guide_frac_per_cell=guide_frac_per_cell.T\n",
    "#sort fraction in ascending order for each row\n",
    "guide_frac_per_cell.sort(axis=0)\n",
    "#remove all zeros in a column \n",
    "guide_frac_per_cell=guide_frac_per_cell[~np.all(guide_frac_per_cell == 0, axis = 1),:]"
   ]
  },
  {
   "cell_type": "code",
   "execution_count": null,
   "metadata": {},
   "outputs": [],
   "source": [
    "for x in range(0,guide_frequency.shape[1]):\n",
    "    \n",
    "    plt.plot(guide_frac_per_cell[:,x])\n",
    "\n",
    "    plt.xlabel('Cell index')\n",
    "    \n",
    "    plt.ylabel('sgRNA frequency')\n",
    "    \n",
    "    #plot adata.var_names for each gene as legend\n",
    "    plt.legend(adata_filtered.var_names,bbox_to_anchor=(1.05, 1), loc='upper left', borderaxespad=0.)\n",
    "\n",
    "plt.savefig(f'{figures_folder}{today}_tf_fraction_per_cell.pdf',bbox_inches='tight')\n",
    "    "
   ]
  },
  {
   "cell_type": "code",
   "execution_count": null,
   "metadata": {},
   "outputs": [],
   "source": [
    "#create function to convert adata X (sparse marix) to convert to 2d array\n",
    "def sparse_to_2d_arr(adata):\n",
    "\n",
    "    #convert sparse matrix to dense matrix\n",
    "    dense_count_mtx=adata.X.todense()\n",
    "    print(dense_count_mtx)\n",
    "    #convert matrix into 2d array\n",
    "    dense_count_2d_arr=np.array(dense_count_mtx)\n",
    "    #convert 2d array to dtype int\n",
    "    dense_count_2d_arr=dense_count_2d_arr.astype(int)\n",
    "\n",
    "    return dense_count_2d_arr"
   ]
  },
  {
   "cell_type": "code",
   "execution_count": null,
   "metadata": {},
   "outputs": [],
   "source": [
    "#extract unique guide names from adata.var_names without _1 or _2 extension\n",
    "\n",
    "#use raw counts for plotting\n",
    "guides = adata_filtered.var_names.str.rstrip('_1|_2').unique()\n",
    "for short_name in expected_guides:\n",
    "    tmp_guides = guides[guides.str.contains(short_name)]\n",
    "    fig,axs = plt.subplots(1,len(tmp_guides))\n",
    "\n",
    "    for i,guide_name in enumerate(tmp_guides):\n",
    "        print(guide_name)\n",
    "        \n",
    "        hist2d = adata_filtered[:,adata_filtered.var_names.str.contains(guide_name)]\n",
    "        hist2d= hist2d.layers['log_transformed'].todense()\n",
    "        #convert matrix into 2d array\n",
    "        hist2d=np.array(hist2d)\n",
    "        \n",
    "        if hist2d.shape[1] == 2:\n",
    "            #needs to be plotted differently for single subplot and multiple subplots\n",
    "            if len(tmp_guides) == 2:\n",
    "                #multiple subplots\n",
    "                axs[i].hist2d(hist2d[:,0],hist2d[:,1],bins=100,density=True, \n",
    "                    norm = colors.LogNorm())\n",
    "                #add x and y label\n",
    "                axs[i].set_xlabel(f'{guide_name}_1')\n",
    "                axs[i].set_ylabel(f'{guide_name}_2')\n",
    "                fig.set_figheight(6)\n",
    "                fig.set_figwidth(12)\n",
    "\n",
    "\n",
    "\n",
    "            else:\n",
    "                #single subplot\n",
    "                axs.hist2d(hist2d[:,0],hist2d[:,1],bins=100,density=True, \n",
    "                    norm = colors.LogNorm())\n",
    "                plt.xlabel(f'{guide_name}_1')\n",
    "                plt.ylabel(f'{guide_name}_2')\n",
    "                fig.set_figheight(8)\n",
    "                fig.set_figwidth(8)\n",
    "\n",
    "\n",
    "\n",
    "            #plot tigh bbox\n",
    "            plt.tight_layout()\n"
   ]
  },
  {
   "cell_type": "code",
   "execution_count": null,
   "metadata": {},
   "outputs": [],
   "source": [
    "#create folder for figures if it does not exist \n",
    "hist_2d_freq_folder = os.path.join(figures_folder, 'hist2d_frequency/')\n",
    "\n",
    "if not os.path.exists(hist_2d_freq_folder):\n",
    "    os.makedirs(hist_2d_freq_folder)\n",
    "\n",
    "guides = adata_filtered.var_names.str.rstrip('_1|_2').unique()\n",
    "for short_name in expected_guides:\n",
    "    tmp_guides = guides[guides.str.contains(short_name)]\n",
    "\n",
    "\n",
    "\n",
    "    \n",
    "    if len(tmp_guides) == 2:\n",
    "        #create empty list to store fraction of each guide pair\n",
    "        curr_guide_pool = []\n",
    "        fig,axs = plt.subplots()\n",
    "            \n",
    "        for i,guide_name in enumerate(tmp_guides):\n",
    "            tmp_adata=adata_filtered[:,adata_filtered.var_names.str.contains(guide_name)]\n",
    "            #calculate fraction of each guide pair\n",
    "            tmp_frac = tmp_adata.layers['log_transformed'].sum(axis=1)\n",
    "            curr_guide_pool.append(tmp_frac)\n",
    "            print(len(curr_guide_pool))\n",
    "            \n",
    "        #concatenate all fractions of each guide pair\n",
    "        curr_guide_pool = np.concatenate(curr_guide_pool,axis=1)\n",
    "        #convert to numpy array\n",
    "        curr_guide_pool = np.array(curr_guide_pool)\n",
    "        \n",
    "        \n",
    "        #plot scatter plot of guide pair fraction\n",
    "        \n",
    "        plt.hist2d(curr_guide_pool[:,0],curr_guide_pool[:,1],bins=100,density=True, \n",
    "                        norm = colors.LogNorm())\n",
    "        #add x and y label\n",
    "        plt.xlabel(f'{short_name}_guide_pair_1 frequency')\n",
    "        plt.ylabel(f'{short_name}_guide_pair_2 frequency')\n",
    "\n",
    "        #save figure\n",
    "        plt.savefig(f'{hist_2d_freq_folder}{today}_{short_name}_guide_pair_frequency.pdf',bbox_inches='tight')"
   ]
  },
  {
   "attachments": {},
   "cell_type": "markdown",
   "metadata": {},
   "source": [
    "<h3> 1.2.2 Guide fraction for guide pool</h3>"
   ]
  },
  {
   "cell_type": "code",
   "execution_count": null,
   "metadata": {},
   "outputs": [],
   "source": [
    "#assign pools based on experimental design\n",
    "adata_filtered.var['guide_pool'] = adata_filtered.var_names.str.split('_').str[0]\n",
    "#assign control guides to control pool\n",
    "adata_filtered.var.loc[adata_filtered.var['guide_pool'].isin(['sgRNA1', 'sgRNA6', 'ONE']), 'guide_pool'] = 'non_activating'"
   ]
  },
  {
   "cell_type": "code",
   "execution_count": null,
   "metadata": {},
   "outputs": [],
   "source": [
    "guide_pool_list = []\n",
    "#calculate fraction of each guide pool\n",
    "for pool in adata_filtered.var['guide_pool'].unique():\n",
    "\n",
    "    #calculate fraction of each guide pool    \n",
    "    idx = np.where(adata_filtered.var['guide_pool'] == pool)[0]\n",
    "    tmp_frac = dense_count_2d_arr[:,idx].sum(axis=1)/dense_count_2d_arr.sum(axis=1)\n",
    "    guide_pool_list.append(tmp_frac)\n",
    "    tmp_frac.sort(axis=0)\n",
    "    \n",
    "    plt.plot(tmp_frac)\n",
    "    #plot legend with short_name\n",
    "    plt.legend(adata_filtered.var['guide_pool'].unique(),bbox_to_anchor=(1.05, 1), loc='upper left', borderaxespad=0.)\n",
    "\n",
    "    plt.xlabel('Cell index')\n",
    "    \n",
    "    plt.ylabel('Accumulative guide frequency')\n",
    "plt.savefig(f'{figures_folder}{today}_guide_pool_fraction_per_cell.pdf',bbox_inches='tight')\n",
    "    "
   ]
  },
  {
   "cell_type": "code",
   "execution_count": null,
   "metadata": {},
   "outputs": [],
   "source": [
    "#create folder for figures if it does not exist \n",
    "hist_2d_freq_folder = os.path.join(figures_folder, 'hist2d_frequency/')\n",
    "\n",
    "if not os.path.exists(hist_2d_freq_folder):\n",
    "    os.makedirs(hist_2d_freq_folder)\n",
    "\n",
    "guides = adata_filtered.var_names.str.rstrip('_1|_2').unique()\n",
    "for short_name in expected_guides:\n",
    "    tmp_guides = guides[guides.str.contains(short_name)]\n",
    "\n",
    "\n",
    "\n",
    "    \n",
    "    if len(tmp_guides) == 2:\n",
    "        #create empty list to store fraction of each guide pair\n",
    "        curr_guide_pool = []\n",
    "        fig,axs = plt.subplots()\n",
    "            \n",
    "        for i,guide_name in enumerate(tmp_guides):\n",
    "            tmp_adata=adata_filtered[:,adata_filtered.var_names.str.contains(guide_name)]\n",
    "            #calculate fraction of each guide pair\n",
    "            tmp_frac = tmp_adata.X.sum(axis=1)/adata_filtered.X.sum(axis=1)\n",
    "            curr_guide_pool.append(tmp_frac)\n",
    "            print(len(curr_guide_pool))\n",
    "            \n",
    "        #concatenate all fractions of each guide pair\n",
    "        curr_guide_pool = np.concatenate(curr_guide_pool,axis=1)\n",
    "        #convert to numpy array\n",
    "        curr_guide_pool = np.array(curr_guide_pool)\n",
    "        \n",
    "        \n",
    "        #plot scatter plot of guide pair fraction\n",
    "        \n",
    "        plt.hist2d(curr_guide_pool[:,0],curr_guide_pool[:,1],bins=100,density=True, \n",
    "                        norm = colors.LogNorm())\n",
    "        #add x and y label\n",
    "        plt.xlabel(f'{short_name}_guide_pair_1 frequency')\n",
    "        plt.ylabel(f'{short_name}_guide_pair_2 frequency')\n",
    "\n",
    "        #save figure\n",
    "        plt.savefig(f'{hist_2d_freq_folder}{today}_{short_name}_guide_pair_frequency.pdf',bbox_inches='tight')"
   ]
  },
  {
   "cell_type": "code",
   "execution_count": null,
   "metadata": {},
   "outputs": [],
   "source": [
    "#create empty list to store fraction of each guide pair\n",
    "curr_guide_pool = []\n",
    "fig,axs = plt.subplots()\n",
    "    \n",
    "for i,guide_name in enumerate(['RORA','non_activating']):\n",
    "    tmp_adata=adata_filtered[:,np.where(adata_filtered.var['guide_pool'] == guide_name)[0]]\n",
    "    print(tmp_adata.X.shape)\n",
    "    #calculate fraction of each guide pair\n",
    "    tmp_frac = tmp_adata.X.sum(axis=1)/adata_filtered.X.sum(axis=1)\n",
    "    curr_guide_pool.append(tmp_frac)\n",
    "    print(len(curr_guide_pool))\n",
    "    \n",
    "#concatenate all fractions of each guide pair\n",
    "curr_guide_pool = np.concatenate(curr_guide_pool,axis=1)\n",
    "#convert to numpy array\n",
    "curr_guide_pool = np.array(curr_guide_pool)\n",
    "\n",
    "\n",
    "#plot scatter plot of guide pair fraction\n",
    "\n",
    "plt.hist2d(curr_guide_pool[:,0],curr_guide_pool[:,1],bins=100,density=True, \n",
    "                norm = colors.LogNorm())\n",
    "#add x and y label\n",
    "plt.xlabel(f'RORA_guide_pair_1 frequency')\n",
    "plt.ylabel(f'control_guides frequency')\n",
    "#save figure\n",
    "plt.savefig(f'{hist_2d_freq_folder}{today}_RORA_guide_pair_frequency.pdf',bbox_inches='tight')"
   ]
  },
  {
   "cell_type": "code",
   "execution_count": null,
   "metadata": {},
   "outputs": [],
   "source": [
    "#create empty list to store fraction of each guide pair\n",
    "curr_guide_pool = []\n",
    "fig,axs = plt.subplots()\n",
    "    \n",
    "for i,guide_name in enumerate(['RORB','non_activating']):\n",
    "    tmp_adata=adata_filtered[:,np.where(adata_filtered.var['guide_pool'] == guide_name)[0]]\n",
    "    print(tmp_adata.X.shape)\n",
    "    #calculate fraction of each guide pair\n",
    "    tmp_frac = tmp_adata.X.sum(axis=1)/adata_filtered.X.sum(axis=1)\n",
    "    curr_guide_pool.append(tmp_frac)\n",
    "    print(len(curr_guide_pool))\n",
    "    \n",
    "#concatenate all fractions of each guide pair\n",
    "curr_guide_pool = np.concatenate(curr_guide_pool,axis=1)\n",
    "#convert to numpy array\n",
    "curr_guide_pool = np.array(curr_guide_pool)\n",
    "\n",
    "\n",
    "#plot scatter plot of guide pair fraction\n",
    "\n",
    "plt.hist2d(curr_guide_pool[:,0],curr_guide_pool[:,1],bins=100,density=True, \n",
    "                norm = colors.LogNorm())\n",
    "#add x and y label\n",
    "plt.xlabel(f'RORB_guide_pair_1 frequency')\n",
    "plt.ylabel(f'control_guides frequency')\n",
    "\n",
    "plt.savefig(f'{hist_2d_freq_folder}{today}_RORB_guide_pair_frequency.pdf',bbox_inches='tight')"
   ]
  },
  {
   "cell_type": "code",
   "execution_count": null,
   "metadata": {},
   "outputs": [],
   "source": [
    "#create new column called perturbation_state in adata.obs to assign cells to perturbed or control initiliaze with nan\n",
    "adata_filtered.obs['perturbation_state'] = 'not_perturbed'"
   ]
  },
  {
   "cell_type": "code",
   "execution_count": null,
   "metadata": {},
   "outputs": [],
   "source": [
    "guide_pool_fraction = []\n",
    "for short_name in adata_filtered.var['guide_pool'].unique():\n",
    "\n",
    "    #filter for guide pool\n",
    "    tmp_adata=adata_filtered[:,np.where(adata_filtered.var['guide_pool'] == short_name)[0]]\n",
    "\n",
    "\n",
    "\n",
    "\n",
    "    #calculate fraction of each guide pair\n",
    "    tmp_frac = tmp_adata.X.sum(axis=1)/adata_filtered.X.sum(axis=1)\n",
    "    guide_pool_fraction.append(tmp_frac)\n",
    "\n",
    "\n",
    "    #exception for control guide pool + RORA/RORB guide pool as they were provided as a combined guide pool\n",
    "    if not(short_name == 'RORA' or short_name == 'RORB'or short_name == 'control'):\n",
    "        #get index of tmp_frac where fraction is greater than 0.8\n",
    "        idx = np.where(tmp_frac > 0.8)[0]\n",
    "        #assign cells to perturbed in perturbation state column in obs\n",
    "        adata_filtered.obs['perturbation_state'].iloc[idx] = short_name\n",
    "#concatenate all fractions of each guide pair\n",
    "guide_pool_fraction = np.concatenate(guide_pool_fraction,axis=1)"
   ]
  },
  {
   "cell_type": "code",
   "execution_count": null,
   "metadata": {},
   "outputs": [],
   "source": [
    "#get index for RORA guide pool\n",
    "RORA_idx = np.where(adata_filtered.var['guide_pool'].unique()== 'RORA')[0][0]\n",
    "RORB_idx = np.where(adata_filtered.var['guide_pool'].unique()== 'RORB')[0][0]\n",
    "#get index for non activating guide pool\n",
    "non_activating_idx = np.where(adata_filtered.var['guide_pool'].unique()== 'non_activating')[0][0]"
   ]
  },
  {
   "cell_type": "code",
   "execution_count": null,
   "metadata": {},
   "outputs": [],
   "source": [
    "#set filter for RORA guide pool > 0.8\n",
    "RORA_filter = np.where(guide_pool_fraction[:,RORA_idx] > 0.8)[0]\n",
    "#assign cells to perturbed in perturbation state column in obs\n",
    "adata_filtered.obs['perturbation_state'].iloc[RORA_filter] = 'RORA'\n",
    "#sum RORB guide pool + control guide fraction as they were provided as a combined guide pool\n",
    "RORB_filter = np.where(\n",
    "    (guide_pool_fraction[:,RORB_idx] + guide_pool_fraction[:,non_activating_idx] > 0.8) & \n",
    "    (guide_pool_fraction[:,RORB_idx] > 0.4) #filter should reflect the fraction of the guide pool that is RORB 2/5\n",
    "    )[0]\n",
    "adata_filtered.obs['perturbation_state'].iloc[RORB_filter] = 'RORB'\n",
    "#assign non-targeting without any RORA/RORB guide pool\n",
    "non_targeting_filter = np.where(\n",
    "    (guide_pool_fraction[:,non_activating_idx]>0.8) &\n",
    "    (guide_pool_fraction[:,RORA_idx] == 0) &\n",
    "    (guide_pool_fraction[:,RORB_idx] == 0)\n",
    ")[0]\n",
    "adata_filtered.obs['perturbation_state'].iloc[non_targeting_filter] = 'non_activating'\n",
    "\n"
   ]
  },
  {
   "cell_type": "code",
   "execution_count": null,
   "metadata": {},
   "outputs": [],
   "source": [
    "adata_filtered.obs['perturbation_state'].value_counts()\n",
    "#create a bar chart from the value counts of perturbation state\n",
    "adata_filtered.obs['perturbation_state'].value_counts().plot.bar()\n",
    "#add x and y label to bar chart\n",
    "plt.xlabel('Perturbed genes')\n",
    "plt.ylabel('# of cells')\n",
    "#save figure in figures folder with today's date\n",
    "plt.savefig(f'{figures_folder}/{today}_perturbation_state_barplot.pdf',dpi=300, bbox_inches='tight')\n"
   ]
  },
  {
   "cell_type": "code",
   "execution_count": null,
   "metadata": {},
   "outputs": [],
   "source": [
    "#save adat_filter obs as csv file\n",
    "adata_filtered.obs.to_csv(f'/lustre/scratch123/hgi/teams/parts/kl11/cell2state_tf_activation/data/crispra_data_exploration/{today}_perturbation_state.csv')\n"
   ]
  }
 ],
 "metadata": {
  "kernelspec": {
   "display_name": "cell2state",
   "language": "python",
   "name": "cell2state_tf_activation"
  },
  "language_info": {
   "codemirror_mode": {
    "name": "ipython",
    "version": 3
   },
   "file_extension": ".py",
   "mimetype": "text/x-python",
   "name": "python",
   "nbconvert_exporter": "python",
   "pygments_lexer": "ipython3",
   "version": "3.9.7"
  },
  "orig_nbformat": 4,
  "vscode": {
   "interpreter": {
    "hash": "31f2aee4e71d21fbe5cf8b01ff0e069b9275f58929596ceb00d14d90e3e16cd6"
   }
  }
 },
 "nbformat": 4,
 "nbformat_minor": 2
}
