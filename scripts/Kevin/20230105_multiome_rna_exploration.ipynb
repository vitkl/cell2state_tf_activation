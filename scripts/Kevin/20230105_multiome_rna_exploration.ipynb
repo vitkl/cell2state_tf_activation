{
 "cells": [
  {
   "cell_type": "code",
   "execution_count": 2,
   "metadata": {},
   "outputs": [],
   "source": [
    "import scanpy as sc \n",
    "import anndata as ad\n",
    "import numpy as np \n",
    "import pandas as pd\n",
    "import matplotlib.pyplot as plt\n",
    "import scipy\n",
    "import os\n",
    "\n",
    "import datetime\n"
   ]
  },
  {
   "cell_type": "code",
   "execution_count": 4,
   "metadata": {},
   "outputs": [],
   "source": [
    "#Define constants here \n",
    "#Current date format is YYYYMMDD with automatically updated date\n",
    "today = datetime.datetime.now().strftime(\"%Y%m%d\")"
   ]
  },
  {
   "cell_type": "code",
   "execution_count": 3,
   "metadata": {},
   "outputs": [],
   "source": [
    "def read_10x_output(file_path, smp_list, metadata=None, type = 'raw', umi_filter=5):\n",
    "    import os\n",
    "    \n",
    "    #Writing output from separate samples, processed using CellRanger, into a dictionary of Scanpy objects:\n",
    "    ad = {}\n",
    "\n",
    "    #Generate AnnData for each sample\n",
    "    for sample_name in smp_list:\n",
    "        path = file_path + sample_name\n",
    "        for i in os.listdir(path):\n",
    "            if type in i and 'h5' in i:\n",
    "                file = i\n",
    "        ad[sample_name] = sc.read_10x_h5(file_path + sample_name +'/'+file)\n",
    "        ad[sample_name].var.rename(columns = {'gene_ids':'ENSEMBL'}, inplace = True)\n",
    "        ad[sample_name].var['SYMBOL'] = ad[sample_name].var.index\n",
    "        ad[sample_name].var.index = ad[sample_name].var['ENSEMBL']\n",
    "        ad[sample_name].var.drop(columns=['ENSEMBL'], inplace=True)\n",
    "        #ad[sample_name].var_names_make_unique() \n",
    "        \n",
    "        \n",
    "        sc.pp.calculate_qc_metrics(ad[sample_name], inplace=True)\n",
    "        ad[sample_name] = ad[sample_name][ad[sample_name].obs['total_counts'] > umi_filter, :]\n",
    "        ad[sample_name].var['mt'] = [gene.startswith('mt-') \n",
    "                                     for gene in ad[sample_name].var['SYMBOL']]\n",
    "        ad[sample_name].obs['mt_frac'] = (ad[sample_name][:, \n",
    "               ad[sample_name].var['mt'].tolist()].X.sum(1).A.squeeze() \n",
    "                                          / ad[sample_name].obs['total_counts'])\n",
    "        \n",
    "        ad[sample_name].obs['sample'] = sample_name\n",
    "        ad[sample_name].obs['barcode'] = ad[sample_name].obs_names\n",
    "        ad[sample_name].obs_names = ad[sample_name].obs['sample']+\"_\"+ad[sample_name].obs['barcode']\n",
    "\n",
    "    #Merge AnnData objects from all the samples together    \n",
    "    from scipy.sparse import vstack\n",
    "    stack = vstack([ad[x].X for x in smp_list]) # stack data\n",
    "    adata = sc.AnnData(stack, var = ad[smp_list[0]].var)\n",
    "    adata.obs = pd.concat([ad[x].obs for x in smp_list], axis = 0)\n",
    "\n",
    "    if metadata is not None:\n",
    "        #Add cleaned metadata to the Anndata.obs table\n",
    "        obs_merged = pd.merge(left = adata.obs, right = metadata, \n",
    "                              how = \"left\", left_on=\"sample\", right_on=\"sample\")\n",
    "        obs_merged.index = obs_merged['sample']+\"_\"+obs_merged['barcode']\n",
    "        print(obs_merged.index.equals(adata.obs.index))\n",
    "        adata.obs = obs_merged\n",
    "\n",
    "    return adata, ad\n"
   ]
  },
  {
   "cell_type": "code",
   "execution_count": 4,
   "metadata": {},
   "outputs": [],
   "source": [
    "#Create a sample list in form of a dataframe to be concatenated by the read_10x_output function\n",
    "sample_list = pd.DataFrame({\n",
    "    'sample': ['cellranger710_count_05e682d5679826b9b76d6bec731bbe61']\n",
    "})"
   ]
  },
  {
   "cell_type": "code",
   "execution_count": null,
   "metadata": {},
   "outputs": [],
   "source": [
    "#Save results in the following folder (create if it doesn't exist)\n",
    "\n",
    "results_folder = '/nfs/team227/kl11/'\n",
    "if not os.path.exists(results_folder):\n",
    "    os.makedirs(results_folder)\n",
    "    \n",
    "sc_data_folder = '/nfs/team205/vk7/sanger_projects/cell2state_tf_activation/data/pilot_5_prime_dec_2022/'\n",
    "adata, ad_list = read_10x_output(\n",
    "    sc_data_folder, \n",
    "    smp_list=sample_list['sample'],\n",
    "    metadata=sample_list, type = 'raw')\n",
    "# export aggregated and pre-processed data\n",
    "adata.write(f'{results_folder}{today}_all_cells_with_empty.h5ad')\n",
    "\n",
    "adata, ad_list = read_10x_output(\n",
    "    sc_data_folder, \n",
    "    smp_list=sample_list['sample'],\n",
    "    metadata=sample_list, type = 'filtered')\n",
    "# export aggregated and pre-processed data\n",
    "adata.write(f'{results_folder}{today}_all_cells.h5ad')"
   ]
  },
  {
   "cell_type": "code",
   "execution_count": null,
   "metadata": {},
   "outputs": [],
   "source": []
  }
 ],
 "metadata": {
  "kernelspec": {
   "display_name": "cell2state",
   "language": "python",
   "name": "cell2state_tf_activation"
  },
  "language_info": {
   "codemirror_mode": {
    "name": "ipython",
    "version": 3
   },
   "file_extension": ".py",
   "mimetype": "text/x-python",
   "name": "python",
   "nbconvert_exporter": "python",
   "pygments_lexer": "ipython3",
   "version": "3.9.7"
  },
  "orig_nbformat": 4
 },
 "nbformat": 4,
 "nbformat_minor": 2
}
