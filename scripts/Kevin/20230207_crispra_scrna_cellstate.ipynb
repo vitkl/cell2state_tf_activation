{
 "cells": [
  {
   "cell_type": "code",
   "execution_count": null,
   "metadata": {},
   "outputs": [],
   "source": [
    "import scanpy as sc \n",
    "import pandas as pd\n",
    "import matplotlib.pyplot as plt\n",
    "from matplotlib import colors, cm\n",
    "import numpy as np\n",
    "import scipy\n",
    "import os\n",
    "\n",
    "from utils import plot_histogram\n",
    "from var import *"
   ]
  },
  {
   "cell_type": "code",
   "execution_count": null,
   "metadata": {},
   "outputs": [],
   "source": [
    "#set seed to 0 for reproducibility of results\n",
    "np.random.seed(0)"
   ]
  },
  {
   "cell_type": "code",
   "execution_count": null,
   "metadata": {},
   "outputs": [],
   "source": [
    "#Create figures folder\n",
    "figures_folder = os.path.join(results_folder, 'figures/cell_state/')\n",
    "if not os.path.exists(figures_folder):\n",
    "    os.makedirs(figures_folder)"
   ]
  },
  {
   "attachments": {},
   "cell_type": "markdown",
   "metadata": {},
   "source": [
    "1. Assess target gene expression with respect to guide UMI counts"
   ]
  },
  {
   "cell_type": "code",
   "execution_count": null,
   "metadata": {},
   "outputs": [],
   "source": [
    "#load log normlised adata object with filter for cells with more than 5000 UMI counts expressed\n",
    "adata_preprocessed = sc.read_h5ad(f'/lustre/scratch123/hgi/teams/parts/kl11/cell2state_tf_activation/results/20230116_adata_pre_processed.h5ad')"
   ]
  },
  {
   "cell_type": "code",
   "execution_count": null,
   "metadata": {},
   "outputs": [],
   "source": [
    "#load adata obs object from crispra csv file\n",
    "adata_obs_df=pd.read_csv('/lustre/scratch123/hgi/teams/parts/kl11/cell2state_tf_activation/data/crispra_data_exploration/20230202_perturbation_state.csv', index_col=0)\n",
    "#order index of adata_obs_df to match adata_preprocessed\n",
    "adata_obs_df = adata_obs_df.reindex(adata_preprocessed.obs.index)\n",
    "#check that the index of adata_obs_df matches adata_preprocessed\n",
    "assert adata_obs_df.index.equals(adata_preprocessed.obs.index)\n",
    "#overwrite adata_preprocessed.obs with adata_obs_df\n",
    "adata_preprocessed.obs = adata_obs_df\n",
    "\n",
    "#filter out cells that are not in the perturbation state\n",
    "adata_perturbed = adata_preprocessed[adata_preprocessed.obs['perturbation_state'] != 'not_perturbed']"
   ]
  },
  {
   "cell_type": "code",
   "execution_count": null,
   "metadata": {},
   "outputs": [],
   "source": [
    "guides = adata_perturbed.var_names.str.rstrip('_1|_2').unique()"
   ]
  },
  {
   "cell_type": "code",
   "execution_count": null,
   "metadata": {},
   "outputs": [],
   "source": [
    "#select all guides by selecting the names which do not start with ENSG in var_names\n",
    "targeted_tf_guides = list(adata_preprocessed.var_names[~adata_preprocessed.var_names.str.startswith('ENSG')])\n",
    "#use list comprehension to split targeted_tf_guides by '_' and select the first element of the list\n",
    "targeted_tf = [x.split('_')[0] for x in targeted_tf_guides]"
   ]
  },
  {
   "cell_type": "code",
   "execution_count": null,
   "metadata": {},
   "outputs": [],
   "source": [
    "\n",
    "# Create a list of expected guides including the control guides \n",
    "expected_guides = [\n",
    "    'AIRE',\n",
    "    'ASCL1',\n",
    "    'DLX1',\n",
    "    'IRF3',\n",
    "    'LHX6',\n",
    "    'MAFB',\n",
    "    'MYOD1',\n",
    "    'NEUROG2',\n",
    "    'OLIG2',\n",
    "    'PROX1',\n",
    "    'RORA',\n",
    "    'RORB',\n",
    "    'SATB2',\n",
    "    'sgRNA1_SCP',\n",
    "    'sgRNA6_SCP',\n",
    "    'ONE_INTERGENIC_SITE_1194'\n",
    "]\n",
    "\n",
    "[i for i in expected_guides if i not in targeted_tf]"
   ]
  },
  {
   "cell_type": "code",
   "execution_count": null,
   "metadata": {},
   "outputs": [],
   "source": [
    "#compute np log 1 p on adata_perturbed counts layers\n",
    "adata_perturbed.layers['log1p'] = np.log1p(adata_perturbed.layers['counts'])"
   ]
  },
  {
   "cell_type": "code",
   "execution_count": null,
   "metadata": {},
   "outputs": [],
   "source": [
    "#plot scatter plot x axis UMI counts for perturbed cells and y axis target gene expression\n",
    "\n",
    "\n",
    "guides = adata_perturbed.var_names.str.rstrip('_1|_2').unique()\n",
    "for short_name in expected_guides:\n",
    "    print(short_name)\n",
    "    tmp_guides = guides[guides.str.contains(short_name)]\n",
    "\n",
    "\n",
    "\n",
    "    \n",
    "    if len(tmp_guides) == 2:\n",
    "        #create empty list to store fraction of each guide pair\n",
    "        \n",
    "        fig,axs = plt.subplots()\n",
    "            \n",
    "        tmp_adata= adata_perturbed[:,adata_perturbed.var_names.str.contains(short_name)]\n",
    "        #calculate fraction of each guide pair\n",
    "        tmp_sum_perturbation = tmp_adata.layers['log1p'].sum(axis=1)\n",
    "        #convert to matrix to array and reshape\n",
    "        tmp_sum_perturbation = np.array(tmp_sum_perturbation).reshape(-1)\n",
    "\n",
    "\n",
    "\n",
    "        print(tmp_sum_perturbation)\n",
    "\n",
    "\n",
    "        #filter adata_perturbedrbed for counts of target gene based on short name\n",
    "        tmp_target = adata_perturbed[:,adata_perturbed.var['SYMBOL'] == short_name].layers['log1p']\n",
    "        #convert to array and reshape\n",
    "        tmp_target = tmp_target.toarray().reshape(-1)\n",
    "        print(tmp_target.shape)\n",
    "\n",
    "\n",
    "          \n",
    "\n",
    "\n",
    "        \n",
    "        \n",
    "        \n",
    "        #plot scatter plot of guide pair fraction\n",
    "        \n",
    "        plt.hist2d(tmp_sum_perturbation,tmp_target,bins=100,density=True, \n",
    "                        norm = colors.LogNorm())\n",
    "\n",
    "        #add x and y label\n",
    "        plt.xlabel(f'{short_name} guide pair count (log1p)')\n",
    "        plt.ylabel(f'{short_name} target count (log1)')\n",
    "\n"
   ]
  },
  {
   "cell_type": "code",
   "execution_count": null,
   "metadata": {},
   "outputs": [],
   "source": [
    "#subset adata for each perturbation state by looping\n",
    "guides = adata_perturbed.var_names.str.rstrip('_1|_2').unique()\n",
    "for short_name in expected_guides:\n",
    "    #map short_name to var_names using .var\n",
    "    tmp_ENSG= adata_perturbed[:,adata_perturbed.var['SYMBOL']==short_name].var_names\n",
    "        \n",
    "    if len(tmp_ENSG) == 1:\n",
    "\n",
    "        #create subplots \n",
    "        fig, axs = plt.subplots(1,2, figsize=(10,5))\n",
    "\n",
    "        #subset adata_perturbed for each perturbation state and control\n",
    "        tmp_adata = adata_perturbed[adata_perturbed.obs['perturbation_state'].isin([short_name,'non_activating'])]\n",
    "        \n",
    "\n",
    "        print(tmp_ENSG)\n",
    "\n",
    "        #plot UMAP for target gene expression and perturbation state\n",
    "        sc.pl.umap(tmp_adata, color=tmp_ENSG, show=False, ax=axs[0],title=short_name)\n",
    "        sc.pl.umap(tmp_adata, color='perturbation_state', show=False, ax=axs[1])\n",
    "            \n"
   ]
  }
 ],
 "metadata": {
  "kernelspec": {
   "display_name": "cell2state",
   "language": "python",
   "name": "cell2state_tf_activation"
  },
  "language_info": {
   "codemirror_mode": {
    "name": "ipython",
    "version": 3
   },
   "file_extension": ".py",
   "mimetype": "text/x-python",
   "name": "python",
   "nbconvert_exporter": "python",
   "pygments_lexer": "ipython3",
   "version": "3.9.7"
  },
  "orig_nbformat": 4,
  "vscode": {
   "interpreter": {
    "hash": "31f2aee4e71d21fbe5cf8b01ff0e069b9275f58929596ceb00d14d90e3e16cd6"
   }
  }
 },
 "nbformat": 4,
 "nbformat_minor": 2
}
