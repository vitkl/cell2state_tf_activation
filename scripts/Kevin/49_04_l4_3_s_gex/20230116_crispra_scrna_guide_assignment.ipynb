{
 "cells": [
  {
   "cell_type": "code",
   "execution_count": null,
   "metadata": {},
   "outputs": [],
   "source": [
    "import scanpy as sc \n",
    "import pandas as pd\n",
    "import matplotlib.pyplot as plt\n",
    "from matplotlib import colors, cm\n",
    "import numpy as np\n",
    "import scipy\n",
    "import os\n",
    "import re\n",
    "\n",
    "from utils import plot_histogram\n",
    "from var import *\n",
    "from guide_assignment import *\n"
   ]
  },
  {
   "cell_type": "code",
   "execution_count": null,
   "metadata": {},
   "outputs": [],
   "source": [
    "#set seed to 0 for reproducibility of results\n",
    "np.random.seed(0)"
   ]
  },
  {
   "cell_type": "code",
   "execution_count": null,
   "metadata": {},
   "outputs": [],
   "source": [
    "#define which dataset to use\n",
    "dataset = '49_04_l4_3_s_gex'"
   ]
  },
  {
   "cell_type": "code",
   "execution_count": null,
   "metadata": {},
   "outputs": [],
   "source": [
    "#Create figures folder\n",
    "figures_folder = os.path.join(results_folder, f'figures/{dataset}/guide_assignment/')\n",
    "if not os.path.exists(figures_folder):\n",
    "    os.makedirs(figures_folder)"
   ]
  },
  {
   "attachments": {},
   "cell_type": "markdown",
   "metadata": {},
   "source": [
    "## 1. Assessing extent of guide overassignment issue"
   ]
  },
  {
   "cell_type": "code",
   "execution_count": null,
   "metadata": {},
   "outputs": [],
   "source": [
    "#load raw anndata object\n",
    "adata = sc.read_h5ad('/lustre/scratch123/hgi/teams/parts/kl11/cell2state_tf_activation/results/20230301_adata_49_04_l4_3_s_gex_pre_processed_filtered_above_5000.h5ad')"
   ]
  },
  {
   "attachments": {},
   "cell_type": "markdown",
   "metadata": {},
   "source": [
    "### 1.1 Load barcode data and experimental design for automation"
   ]
  },
  {
   "cell_type": "code",
   "execution_count": null,
   "metadata": {},
   "outputs": [],
   "source": [
    "# load barcode count data \n",
    "barcode_count = pd.read_csv('/lustre/scratch123/hgi/teams/parts/kl11/cell2state_tf_activation/data/barcode_output/Barcode-3S_barcode_counts.csv', index_col=0)"
   ]
  },
  {
   "cell_type": "code",
   "execution_count": null,
   "metadata": {},
   "outputs": [],
   "source": [
    "# function to add guide barcodes to adata obsm\n",
    "def add_guide_barcodes(adata, barcode_count, keep_cells_w_no_guide_barcodes=True):\n",
    "    \"\"\"\n",
    "    Add guide barcodes to adata obsm\n",
    "\n",
    "    Parameters\n",
    "    ----------\n",
    "    adata : AnnData\n",
    "        AnnData object containing the raw data\n",
    "    barcode_count : pd.DataFrame\n",
    "        DataFrame containing the barcode counts for each guide barcode\n",
    "    keep_cells_w_no_guide_barcodes : bool, optional\n",
    "        If True, keep cells with no guide barcodes assigned, by default True\n",
    "    Returns\n",
    "    -------\n",
    "    adata : AnnData\n",
    "        AnnData object containing the raw data with guide barcodes added to adata.obsm\n",
    "        \n",
    "    \"\"\"\n",
    "\n",
    "    if keep_cells_w_no_guide_barcodes:\n",
    "        # reindex barcode count index based ada obs column 'barcodes'\n",
    "        adata.obs.index = adata.obs['barcodes']\n",
    "        # add non intersecting guides to barcode couns\n",
    "        barcode_count = barcode_count.reindex(adata.obs.index.unique(), fill_value=0)\n",
    "        # add barcode count to adata obsm\n",
    "        adata.obsm['barcode_count'] = barcode_count\n",
    "        \n",
    "    else:\n",
    "        # adata obs column 'barcodes' use as .obs index\n",
    "        adata.obs.index = adata.obs['barcodes']\n",
    "        # filter adata obs based on barcode count data -> this drops cells without guide barcodes being assigned\n",
    "        adata = adata[adata.obs.index.isin(barcode_count.index)]\n",
    "        # filter barcode count data based on adata obs -> this drops barcodes without cells being assigned\n",
    "        barcode_count = barcode_count.loc[adata.obs.index.unique()]\n",
    "        # assign barcode count to adata obsm\n",
    "        adata.obsm['barcode_count'] = barcode_count\n",
    "    \n",
    "    #replace all nan values with 0\n",
    "    adata.obsm['barcode_count'] = adata.obsm['barcode_count'].fillna(0)\n",
    "\n",
    "    return adata"
   ]
  },
  {
   "cell_type": "code",
   "execution_count": null,
   "metadata": {},
   "outputs": [],
   "source": [
    "# assign guide barcodes to adata obsm\n",
    "adata = add_guide_barcodes(adata, barcode_count, keep_cells_w_no_guide_barcodes=True)"
   ]
  },
  {
   "cell_type": "code",
   "execution_count": null,
   "metadata": {},
   "outputs": [],
   "source": [
    "#assign guide barcode availability to adata obs\n",
    "adata.obs['guide_barcodes'] = adata.obsm['barcode_count'].sum(axis=1) > 0\n",
    "#change true/false to available/not available\n",
    "adata.obs['guide_barcodes'] = adata.obs['guide_barcodes'].replace({True:'available', False:'not available'})"
   ]
  },
  {
   "cell_type": "code",
   "execution_count": null,
   "metadata": {},
   "outputs": [],
   "source": [
    "#plot umap of guide barcode availability\n",
    "sc.pl.umap(adata, color='guide_barcodes')"
   ]
  },
  {
   "cell_type": "code",
   "execution_count": null,
   "metadata": {},
   "outputs": [],
   "source": [
    "# load experimental design data \n",
    "experimental_design = pd.read_csv('/lustre/scratch123/hgi/teams/parts/kl11/cell2state_tf_activation/data/49_04_exp_design_20221209 - experimental_design.csv')"
   ]
  },
  {
   "cell_type": "code",
   "execution_count": null,
   "metadata": {},
   "outputs": [],
   "source": [
    "#function pivot experimental design data from wide to long format\n",
    "def pivot_experimental_design(df):\n",
    "    '''\n",
    "    Pivot experimental design data from wide to long format with data wrangling to match barcode count data\n",
    "\n",
    "    Parameters\n",
    "    ----------\n",
    "    df : pd.DataFrame\n",
    "        DataFrame containing the experimental design data\n",
    "    Returns\n",
    "    -------\n",
    "    df_long : pd.DataFrame\n",
    "        DataFrame containing the experimental design data in long format\n",
    "        \n",
    "    '''\n",
    "    # create index by merging all columns containing pertubation in column name\n",
    "    df['perturbation'] = df.filter(regex='perturbation').apply(lambda x: '_'.join(x.dropna().astype(str)), axis=1)\n",
    "    # drop double control condition by dropping duplicates\n",
    "    df = df.drop_duplicates(subset='perturbation', keep='first')\n",
    "    #convert all columns header to string\n",
    "    df.columns = df.columns.astype(str)\n",
    "\n",
    "    # pivot experimental design data from wide to long format drop variable column\n",
    "    guide_col=df.columns[df.columns.str.startswith('guide')]\n",
    "    df_long = pd.melt(df, id_vars=['perturbation','number_of_pert'], value_vars=guide_col, var_name='guide_no', value_name='guide')\n",
    "    df_long = df_long.drop(columns=['guide_no'])\n",
    "    # sort rows by perturbation\n",
    "    df_long = df_long.sort_values(by=['perturbation'])\n",
    "    # drop all nan columns in guide column\n",
    "    df_long = df_long.dropna(subset=['guide'])\n",
    "    #in grna column replace regex r'+\\d+' with ''\n",
    "    df_long['guide'] = df_long['guide'].str.replace(r'\\+.+', '', regex=True)\n",
    "    #create a columns with target gene name by splitting guide column on '_'\n",
    "    df_long['guide_target_gene'] = df_long['guide'].str.split('_gRNA').str[0]\n",
    "    #for CONTROL condition set target gene to 'CONTROL'\n",
    "    df_long.loc[df_long['perturbation'] == 'CONTROL', 'guide_target_gene'] = 'CONTROL'\n",
    "\n",
    "    return df_long"
   ]
  },
  {
   "cell_type": "code",
   "execution_count": null,
   "metadata": {},
   "outputs": [],
   "source": [
    "experimental_design_long = pivot_experimental_design(experimental_design)\n",
    "#filter experimental design long for guides which are in adata obsm barcode count\n",
    "experimental_design_long = experimental_design_long[experimental_design_long['guide'].isin(adata.obsm['barcode_count'].columns)]"
   ]
  },
  {
   "cell_type": "markdown",
   "metadata": {},
   "source": [
    "### 1.2 guide UMI count distribution"
   ]
  },
  {
   "cell_type": "code",
   "execution_count": null,
   "metadata": {},
   "outputs": [],
   "source": [
    "#assign raw counts to adata\n",
    "adata.X = adata.layers['counts']"
   ]
  },
  {
   "cell_type": "code",
   "execution_count": null,
   "metadata": {},
   "outputs": [],
   "source": [
    "dense_count_2d_arr = sparse_to_2d_arr(adata)\n",
    "guide_frequency = count_guide_frequency(dense_count_2d_arr)"
   ]
  },
  {
   "attachments": {},
   "cell_type": "markdown",
   "metadata": {},
   "source": [
    "### 1.2.1 guide UMI count histograms"
   ]
  },
  {
   "cell_type": "code",
   "execution_count": null,
   "metadata": {},
   "outputs": [],
   "source": [
    "#plot total guide UMI counts from adata.obsm['barcode_count']\n",
    "# order columns alphabetically\n",
    "adata.obsm['barcode_count'] = adata.obsm['barcode_count'].reindex(sorted(adata.obsm['barcode_count'].columns), axis=1)\n",
    "adata.obsm['barcode_count'].sum(axis=0).plot(kind='bar', figsize=(20,10))\n",
    "# add x and y labels\n",
    "plt.xlabel('Guide')\n",
    "plt.ylabel('total UMI counts')\n",
    "# save figure\n",
    "plt.savefig(os.path.join(figures_folder, f'{today}_guide_UMI_counts.pdf'), dpi=300, bbox_inches='tight')\n",
    "print(adata.obsm['barcode_count'].sum(axis=0))"
   ]
  },
  {
   "cell_type": "code",
   "execution_count": null,
   "metadata": {},
   "outputs": [],
   "source": [
    "#plot average guide UMI counts/cell from adata.obsm['barcode_count']\n",
    "# order columns alphabetically\n",
    "adata.obsm['barcode_count'] = adata.obsm['barcode_count'].reindex(sorted(adata.obsm['barcode_count'].columns), axis=1)\n",
    "adata.obsm['barcode_count'].mean(axis=0).plot(kind='bar', figsize=(20,10))"
   ]
  },
  {
   "cell_type": "code",
   "execution_count": null,
   "metadata": {},
   "outputs": [],
   "source": [
    "#plot the amount of cells with a guide barcode for each guide\n",
    "# order columns alphabetically\n",
    "#count non zero values per column\n",
    "adata.obsm['barcode_count'] = adata.obsm['barcode_count'].reindex(sorted(adata.obsm['barcode_count'].columns), axis=1)\n",
    "adata.obsm['barcode_count'].astype(bool).sum(axis=0).plot(kind='bar', figsize=(20,10))\n",
    "# add x and y labels\n",
    "plt.xlabel('Guide')\n",
    "plt.ylabel('Number of cells with guide barcode counts')"
   ]
  },
  {
   "cell_type": "code",
   "execution_count": null,
   "metadata": {},
   "outputs": [],
   "source": [
    "#count number of unique guide per cell by counting number of all non-zero values in each row\n",
    "guide_per_cell = np.count_nonzero(adata.obsm['barcode_count'], axis=1)\n",
    "#plot histogram of guide per cell\n",
    "plt.hist(guide_per_cell, bins=100)\n",
    "# add x and y labels\n",
    "plt.xlabel('Number of guides per cell')\n",
    "plt.ylabel('Number of cells')\n",
    "# save figure\n",
    "plt.savefig(os.path.join(figures_folder, f'{today}_unique_guides_per_cell.pdf'), dpi=300, bbox_inches='tight')"
   ]
  },
  {
   "attachments": {},
   "cell_type": "markdown",
   "metadata": {},
   "source": [
    "### 1.3 Guide assignment"
   ]
  },
  {
   "attachments": {},
   "cell_type": "markdown",
   "metadata": {},
   "source": [
    "#### 1.3.1 Guide fraction for guide pool"
   ]
  },
  {
   "cell_type": "code",
   "execution_count": null,
   "metadata": {},
   "outputs": [],
   "source": [
    "def compute_guide_fraction(array):\n",
    "    \"\"\"\n",
    "    Parameters\n",
    "    ----------\n",
    "    array : 2d array\n",
    "    Returns\n",
    "    -------\n",
    "    guide_frac_per_cell : 2d array\n",
    "        DESCRIPTION.\n",
    "    Compute fraction per column to determine guide fraction of each cell\n",
    "    \"\"\"\n",
    "    #compute fraction per column\n",
    "    guide_frac_per_cell=array.T/array.sum(axis=1)\n",
    "    guide_frac_per_cell=guide_frac_per_cell.T\n",
    "    #sort fraction in ascending order for each row\n",
    "    guide_frac_per_cell.sort(axis=0)\n",
    "    #remove all zeros in a column \n",
    "    guide_frac_per_cell=guide_frac_per_cell[~np.all(guide_frac_per_cell == 0, axis = 1),:]\n",
    "    return guide_frac_per_cell"
   ]
  },
  {
   "cell_type": "code",
   "execution_count": null,
   "metadata": {},
   "outputs": [],
   "source": [
    "guide_frac_per_cell=compute_guide_fraction(adata.obsm['barcode_count'].values)"
   ]
  },
  {
   "cell_type": "code",
   "execution_count": null,
   "metadata": {},
   "outputs": [],
   "source": [
    "barcode_count=adata.obsm['barcode_count'].values\n",
    "guide_frac_per_cell=barcode_count.T/barcode_count.sum(axis=1)\n",
    "guide_frac_per_cell=guide_frac_per_cell.T"
   ]
  },
  {
   "cell_type": "code",
   "execution_count": null,
   "metadata": {},
   "outputs": [],
   "source": [
    "#write a function to extract all unique targets appearing in multiple perturbations\n",
    "def extract_multiple_pert_targets(experimental_design_long):\n",
    "    \"\"\"\n",
    "    This function extracts all unique targets appearing in multiple perturbations from the experimental design long format dataframe.\n",
    "    Parameters\n",
    "    ----------\n",
    "    experimental_design_long : pd.DataFrame\n",
    "        Long format dataframe with experimental design.\n",
    "\n",
    "    Returns\n",
    "    -------\n",
    "    multiple_pert_targets : list\n",
    "        List of all unique targets appearing in multiple perturbations.\n",
    "\n",
    "    \"\"\"\n",
    "    # subset experimental design long for multiple perturbations\n",
    "    multiple_pert = experimental_design_long[experimental_design_long['number_of_pert'] > 1]\n",
    "    #extract all unique targets appearing in multiple perturbations\n",
    "    multiple_pert_targets = multiple_pert['perturbation'].unique()\n",
    "    multiple_pert_targets = [string.split('_') for string in  multiple_pert_targets]\n",
    "    #flatten list\n",
    "    multiple_pert_targets = [item for sublist in multiple_pert_targets for item in sublist]\n",
    "    #unique elements\n",
    "    multiple_pert_targets = list(set(multiple_pert_targets))\n",
    "    \n",
    "    return multiple_pert_targets\n"
   ]
  },
  {
   "cell_type": "code",
   "execution_count": null,
   "metadata": {},
   "outputs": [],
   "source": [
    "multiple_pert_targets = extract_multiple_pert_targets(experimental_design_long)"
   ]
  },
  {
   "cell_type": "code",
   "execution_count": 38,
   "metadata": {},
   "outputs": [],
   "source": [
    "#write function for 1d hist plot\n",
    "def plot_1d_hist(filtered_pert_frac, filtered_pert_count, pert_string, path_to_save=None):\n",
    "        \"\"\"\n",
    "        This function plots a 1d histogram of guide fraction per cell and guide counts per cell for a given perturbation.\n",
    "        Parameters\n",
    "        ----------\n",
    "        filtered_pert_frac : pd.DataFrame\n",
    "                Dataframe with guide fraction per cell for each perturbation.\n",
    "        filtered_pert_count : pd.DataFrame\n",
    "                Dataframe with guide counts per cell for each perturbation.\n",
    "        pert_string : list\n",
    "                List of strings containing the perturbation name.\n",
    "        path_to_save : str, optional\n",
    "                Path to save figure. The default is None.\n",
    "        Returns\n",
    "        -------\n",
    "        None.\n",
    "        \"\"\"\n",
    "        #assert that pert_string has only one element\n",
    "        assert len(pert_string) == 1, 'pert_string should only contain one element'\n",
    "        #initialise figure and axes with two subplots\n",
    "        fig, ax = plt.subplots(1, 2, figsize=(20,10))\n",
    "        # set title of whole figure\n",
    "        fig.suptitle(f'{pert}')\n",
    "\n",
    "        # plot histogram of guide fraction per cell using pert_frac\n",
    "        ax[0].hist(filtered_pert_frac[pert_string[0]], bins=20)\n",
    "        # add x and y labels\n",
    "        ax[0].set_xlabel(f'{pert_string[0]} guide fraction per cell')\n",
    "        ax[0].set_ylabel(f'Number of cells')\n",
    "\n",
    "        # plot histogram of guide counts per cell using pert_count\n",
    "        # add x and y labels\n",
    "        ax[1].hist(filtered_pert_count[pert_string[0]], bins=20)\n",
    "        ax[1].set_xlabel(f'{pert_string[0]} guide counts per cell')\n",
    "        ax[1].set_ylabel('Number of cells')\n",
    "\n",
    "        if path_to_save:\n",
    "                # save figure\n",
    "                # plt.savefig(os.path.join(figures_folder, f'{today}_{pert}_guide_fraction.pdf'), dpi=300, bbox_inches='tight')\n",
    "                plt.savefig(path_to_save, dpi=300, bbox_inches='tight')\n"
   ]
  },
  {
   "cell_type": "code",
   "execution_count": 47,
   "metadata": {},
   "outputs": [],
   "source": [
    "#write function for 2d hist plot\n",
    "def plot_2d_hist(filtered_pert_frac, filtered_pert_count, pert_string, path_to_save=None):\n",
    "        \"\"\"\n",
    "        This function plots a 2d histogram of guide fraction per cell and guide counts per cell for a given perturbation.\n",
    "        Parameters\n",
    "        ----------\n",
    "        filtered_pert_frac : pd.DataFrame\n",
    "                Dataframe with guide fraction per cell for each perturbation.\n",
    "        filtered_pert_count : pd.DataFrame\n",
    "                Dataframe with guide counts per cell for each perturbation.\n",
    "        pert_string : list\n",
    "                List of strings containing the perturbation name.\n",
    "        path_to_save : str, optional\n",
    "                Path to save figure. The default is None.\n",
    "        Returns\n",
    "        -------\n",
    "        None.\n",
    "        \"\"\"\n",
    "        #assert that pert_string has only one element\n",
    "        assert len(pert_string) == 2, 'pert_string should contain two elements'\n",
    "        #initialise figure and axes with two subplots\n",
    "        fig, ax = plt.subplots(1, 2, figsize=(20,10))\n",
    "        # set title of whole figure\n",
    "        fig.suptitle(f'{pert}')\n",
    "\n",
    "        # plot histogram of guide fraction per cell using pert_frac\n",
    "        ax[0].hist2d(filtered_pert_frac[pert_string[0]], filtered_pert_frac[pert_string[1]], bins=50, norm=colors.LogNorm(), cmap='viridis')\n",
    "        # add x and y labels\n",
    "        ax[0].set_xlabel(f'{pert_string[0]} guide fraction per cell')\n",
    "        ax[0].set_ylabel(f'{pert_string[1]} guide counts per cell')\n",
    "\n",
    "        # plot histogram of guide counts per cell using pert_count\n",
    "        # add x and y labels\n",
    "        ax[1].hist2d(filtered_pert_count[pert_string[0]], filtered_pert_count[pert_string[1]], bins=50, cmap='viridis', norm=colors.LogNorm())\n",
    "        ax[1].set_xlabel(f'{pert_string[0]} guide counts per cell')\n",
    "        ax[1].set_ylabel(f'{pert_string[1]} guide fraction per cell')\n",
    "\n",
    "        if path_to_save:\n",
    "                # save figure\n",
    "                # plt.savefig(os.path.join(figures_folder, f'{today}_{pert}_guide_fraction.pdf'), dpi=300, bbox_inches='tight')\n",
    "                plt.savefig(path_to_save, dpi=300, bbox_inches='tight')"
   ]
  },
  {
   "cell_type": "code",
   "execution_count": 50,
   "metadata": {},
   "outputs": [],
   "source": [
    "#plot 3d scatter plot\n",
    "def plot_3d_scatter(filtered_pert_frac, filtered_pert_count, pert_string, path_to_save=None):\n",
    "        \"\"\"\n",
    "        This function plots a 3d scatter plot of guide fraction per cell and guide counts per cell for a given perturbation.\n",
    "        Parameters\n",
    "        ----------\n",
    "        filtered_pert_frac : pd.DataFrame\n",
    "                Dataframe with guide fraction per cell for each perturbation.\n",
    "        filtered_pert_count : pd.DataFrame\n",
    "                Dataframe with guide counts per cell for each perturbation.\n",
    "        pert_string : list\n",
    "                List of strings containing the perturbation name.\n",
    "        path_to_save : str, optional\n",
    "                Path to save figure. The default is None.\n",
    "        Returns\n",
    "        -------\n",
    "        None.\n",
    "        \"\"\"\n",
    "        #assert that pert_string has only one element\n",
    "        assert len(pert_string) == 3, 'pert_string should contain three elements'\n",
    "\n",
    "        #initialise figure and axes with two subplots\n",
    "        fig, ax = plt.subplots(1, 2, figsize=(20,10))\n",
    "        # turn off axis\n",
    "        ax[0].axis('off')\n",
    "        ax[1].axis('off')\n",
    "        # set title of whole figure\n",
    "        fig.suptitle(f'{pert}')\n",
    "        # set 3d figure\n",
    "        ax[0] = fig.add_subplot(1, 2, 1, projection='3d')\n",
    "        ax[1] = fig.add_subplot(1, 2, 2, projection='3d')\n",
    "        # tight layout\n",
    "        fig.tight_layout()\n",
    "        # plot 3d scatter plot\n",
    "        ax[0].scatter(filtered_pert_frac[pert_string[0]], filtered_pert_frac[pert_string[1]], filtered_pert_frac[pert_string[2]], marker='o', alpha=0.5)\n",
    "        # add x, y and z labels\n",
    "        ax[0].set_xlabel(f'{pert_string[0]} guide fraction per cell')\n",
    "        ax[0].set_ylabel(f'{pert_string[1]} guide fraction per cell')\n",
    "        ax[0].set_zlabel(f'{pert_string[2]} guide fraction per cell')\n",
    "\n",
    "        ax[1].scatter(filtered_pert_count[pert_string[0]], filtered_pert_count[pert_string[1]], filtered_pert_count[pert_string[2]], marker='o', alpha=0.5)\n",
    "        # add x, y and z labels\n",
    "        ax[1].set_xlabel(f'{pert_string[0]} guide count per cell')\n",
    "        ax[1].set_ylabel(f'{pert_string[1]} guide count per cell')\n",
    "        ax[1].set_zlabel(f'{pert_string[2]} guide count per cell')\n",
    "\n",
    "\n",
    "        if path_to_save:\n",
    "                # save figure\n",
    "                # plt.savefig(os.path.join(figures_folder, f'{today}_{pert}_guide_fraction.pdf'), dpi=300, bbox_inches='tight')\n",
    "                plt.savefig(path_to_save, dpi=300, bbox_inches='tight')"
   ]
  },
  {
   "cell_type": "code",
   "execution_count": 62,
   "metadata": {},
   "outputs": [
    {
     "name": "stdout",
     "output_type": "stream",
     "text": [
      "AIRE\n",
      "ASCL1\n",
      "CONTROL\n",
      "DBX2\n",
      "DLX1\n",
      "DLX5\n",
      "FOXN1\n",
      "GATA2\n",
      "IRF3\n",
      "LHX6\n",
      "MAFB\n",
      "MYOD1\n",
      "MYOD1\n",
      "MYOD1_NEUROD2\n",
      "NEUROD2\n",
      "NEUROD2\n",
      "NEUROG2\n",
      "NEUROG2\n",
      "NEUROG2_NEUROD2\n",
      "NEUROG2_NEUROD2_RORB\n",
      "NEUROG2_RORB\n",
      "OLIG1\n",
      "OLIG2\n",
      "PROX1\n",
      "RORA\n",
      "RORA\n",
      "RORA_NEUROD2\n",
      "RORB\n",
      "RORB\n",
      "RORB_RORA\n",
      "RORB_RORA_NEUROD2\n",
      "SATB2\n"
     ]
    }
   ],
   "source": [
    "#assign new columnt to assign perturbation state\n",
    "adata.obs['pert_state'] = 'not_perturbed'\n",
    "for pert in experimental_design_long['perturbation'].unique():\n",
    "    #create figures folder if it does not exist\n",
    "    tmp_figures_folder = os.path.join(figures_folder, 'perturbation_frac_counts')\n",
    "    if not os.path.exists(tmp_figures_folder):\n",
    "        os.makedirs(tmp_figures_folder)\n",
    "\n",
    "    #filter for guides of perturbation\n",
    "    guides = experimental_design_long[experimental_design_long['perturbation'] == pert]['guide'].unique()   \n",
    "\n",
    "    #split perturbation string\n",
    "    pert_string = pert.split('_')\n",
    "    #sum for each perturbation the number of counts per cell with dict comprehension by summing row-wise adatas obsm['barcode_count'] \n",
    "    pert_count = {pert: adata.obsm['barcode_count'][experimental_design_long[experimental_design_long['guide_target_gene']==pert]['guide'].unique()].sum(axis=1) for pert in pert_string}\n",
    "\n",
    "    #calculate fraction of perturbation counts per cell\n",
    "    pert_frac = {k: v / adata.obsm['barcode_count'].sum(axis=1) for k, v in pert_count.items()}\n",
    "    #fill all nan values with 0 in pert_frac\n",
    "    pert_frac = {k: v.fillna(0) for k, v in pert_frac.items()}\n",
    "    #create path to save figure\n",
    "    path_to_save = os.path.join(tmp_figures_folder, f'{today}_{pert}.pdf')\n",
    "    \n",
    "    # check if string contains any of the multiple perturbations\n",
    "    if any(x in pert for x in multiple_pert_targets):\n",
    "\n",
    "        if len(pert_string)==1:\n",
    "            print(pert)\n",
    "            # extract all conditions where pert is one of the multiple perturbations\n",
    "            conditions = experimental_design_long[experimental_design_long['perturbation'].str.contains(pert)]['perturbation'].unique()\n",
    "            # split conditions by '_'\n",
    "            conditions = [string.split('_') for string in conditions]\n",
    "            # flatten list\n",
    "            conditions = [item for sublist in conditions for item in sublist]\n",
    "            # remove pert from conditions\n",
    "            conditions_to_exclude = [x for x in conditions if x != pert]\n",
    "            # extract list of guides for conditions to exclude based on guide_target_gene column \n",
    "            guides_to_exclude = experimental_design_long[experimental_design_long['guide_target_gene'].isin(conditions_to_exclude)]['guide'].unique()\n",
    "            \n",
    "            #create boolean conditions and apply to pert_count and pert_frac\n",
    "            #boolean mask to filter for cells with >0 guide count per cell\n",
    "            tmp_count_mask = adata.obsm['barcode_count'][guides].sum(axis=1) > 0\n",
    "            #boolean mask for guides to exclude all counts need to be 0 \n",
    "            tmp_count_mask = tmp_count_mask & (adata.obsm['barcode_count'][guides_to_exclude].sum(axis=1) == 0)\n",
    "            #apply mask to pert_count and pert_frac\n",
    "            filtered_pert_count = {k: v[tmp_count_mask] for k, v in pert_count.items()}\n",
    "            filtered_pert_frac = {k: v[tmp_count_mask] for k, v in pert_frac.items()}\n",
    "\n",
    "            # #plot 1d hist for one condition\n",
    "            # plot_1d_hist(filtered_pert_frac, filtered_pert_count, pert_string, path_to_save)\n",
    "\n",
    "        #plot hist2d for two conditions\n",
    "        elif len(pert_string)==2:\n",
    "            # boolean mask to filter for cells with each pert count per cell >0  in pert_count\n",
    "            tmp_count_mask = (pert_count[pert_string[0]] > 0) & (pert_count[pert_string[1]] > 0)\n",
    "            # apply mask to pert_count and pert_frac\n",
    "            filtered_pert_count = {k: v[tmp_count_mask] for k, v in pert_count.items()}\n",
    "            filtered_pert_frac = {k: v[tmp_count_mask] for k, v in pert_frac.items()}\n",
    "\n",
    "            # #plot 2d hist for two conditions\n",
    "            # plot_2d_hist(filtered_pert_frac, filtered_pert_count, pert_string, path_to_save)\n",
    "\n",
    "        elif len(pert_string)==3:\n",
    "            #plot 3d scatter plot\n",
    "            # boolean mask to filter for cells with each pert count per cell >0  in pert_count\n",
    "            tmp_count_mask = (pert_count[pert_string[0]] > 0) & (pert_count[pert_string[1]] > 0) & (pert_count[pert_string[2]] > 0)\n",
    "            # apply mask to pert_count and pert_frac\n",
    "            filtered_pert_count = {k: v[tmp_count_mask] for k, v in pert_count.items()}\n",
    "            filtered_pert_frac = {k: v[tmp_count_mask] for k, v in pert_frac.items()}\n",
    "\n",
    "            # #plot 3d scatter plot\n",
    "            # plot_3d_scatter(filtered_pert_frac, filtered_pert_count, pert_string, path_to_save)\n",
    "\n",
    "        \n",
    "    else:\n",
    "        # create boolean mask to filter for cells with >1 guide count per cell\n",
    "        tmp_count_mask = adata.obsm['barcode_count'][guides].sum(axis=1) > 1\n",
    "        # apply mask to pert_count and pert_frac\n",
    "        filtered_pert_count = {k: v[tmp_count_mask] for k, v in pert_count.items()}\n",
    "        filtered_pert_frac = {k: v[tmp_count_mask] for k, v in pert_frac.items()}\n",
    "\n",
    "        # #plot hist1d\n",
    "        # plot_1d_hist(filtered_pert_count, filtered_pert_frac, pert_string, path_to_save)\n",
    "\n",
    "    #assign perturbation state based on summed frequency of perturbation guides per cell\n",
    "    #extract all list from dict\n",
    "    tmp_list = list(filtered_pert_frac.values())\n",
    "    #sum individual lists\n",
    "    tmp_sum = sum(tmp_list)\n",
    "    #filter for cells with sum > 0.5\n",
    "    tmp_sum = tmp_sum[tmp_sum > 0.5]\n",
    "\n",
    "    #assign perturbation state to cells with sum > 0.5\n",
    "    adata.obs.loc[tmp_sum.index, 'pert_state'] = pert\n"
   ]
  },
  {
   "cell_type": "code",
   "execution_count": null,
   "metadata": {},
   "outputs": [],
   "source": [
    "#save adata\n",
    "adata.write(os.path.join(results_folder, f'{today}_adata_49_04_l4_3_s_gex_guide_assigned.h5ad'))"
   ]
  }
 ],
 "metadata": {
  "kernelspec": {
   "display_name": "cell2state",
   "language": "python",
   "name": "cell2state_tf_activation"
  },
  "orig_nbformat": 4,
  "vscode": {
   "interpreter": {
    "hash": "503d4ad1dfb6d4c0cd797aaeafe76331fc96d71204bf9446a3840c78382bd193"
   }
  }
 },
 "nbformat": 4,
 "nbformat_minor": 2
}
